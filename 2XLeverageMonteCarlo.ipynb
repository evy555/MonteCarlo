{
 "cells": [
  {
   "cell_type": "code",
   "execution_count": null,
   "metadata": {
    "collapsed": true
   },
   "outputs": [],
   "source": []
  },
  {
   "cell_type": "code",
   "execution_count": 1,
   "metadata": {
    "collapsed": false
   },
   "outputs": [],
   "source": [
    "import pandas as pd\n",
    "import matplotlib.pyplot as plt\n",
    "import random\n",
    "from statistics import mean"
   ]
  },
  {
   "cell_type": "code",
   "execution_count": 2,
   "metadata": {
    "collapsed": false
   },
   "outputs": [],
   "source": [
    "df = pd.read_csv(\"SSO.csv\")\n",
    "df = df[[\"Date\",\"SSO\",\"SPY\",\"SSO Return\",\"SPY Return\"]]\n",
    "df.dropna(inplace=True)"
   ]
  },
  {
   "cell_type": "code",
   "execution_count": 3,
   "metadata": {
    "collapsed": false
   },
   "outputs": [],
   "source": [
    "df['SSO Return'] = df[\"SSO Return\"].apply(lambda x: float(x.strip(\"%\"))/100)"
    "df['SPY Return'] = df[\"SPY Return\"].apply(lambda x: float(x.strip(\"%\"))/100)"
   ]
  },
  {
   "cell_type": "code",
   "execution_count": 4,
   "metadata": {
    "collapsed": false
   },
   "outputs": [],
   "source": [
    "trading_days = 252\n",
    "years = 10\n",
    "total_trading_days = trading_days * years"
   ]
  },
  {
   "cell_type": "code",
   "execution_count": 5,
   "metadata": {
    "collapsed": false
   },
   "outputs": [],
   "source": [
    "tests = 1000\n",
    "results = []\n",
    "while tests > 0:\n",
    "    start_value = 20000\n",
    "    for i in range(0,total_trading_days):\n",
    "        start_value = start_value * (1 + random.choice(df['SSO Return']))\n",
    "    results.append(start_value)\n",
    "    tests -= 1"
   ]
  },
  {
   "cell_type": "code",
   "execution_count": 6,
   "metadata": {
    "collapsed": false
   },
   "outputs": [
    {
     "name": "stdout",
     "output_type": "stream",
     "text": [
      "103988.799629\n",
      "1568.09888117\n",
      "2927972.57696\n"
     ]
    }
   ],
   "source": [
    "print(mean(results))\n",
    "print(min(results))\n",
    "print(max(results))"
   ]
  },
  {
   "cell_type": "code",
   "execution_count": 7,
   "metadata": {
    "collapsed": false
   },
   "outputs": [
    {
     "data": {
      "image/png": "iVBORw0KGgoAAAANSUhEUgAAAYUAAAD8CAYAAACYebj1AAAABHNCSVQICAgIfAhkiAAAAAlwSFlz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\nGQqSpO5/AUqgqKf5KtDEAAAAAElFTkSuQmCC\n",
      "text/plain": [
       "<matplotlib.figure.Figure at 0x2dee0b38198>"
      ]
     },
     "metadata": {},
     "output_type": "display_data"
    }
   ],
   "source": [
    "plt.hist(results)\n",
    "plt.show()"
   ]
  },
  {
   "cell_type": "code",
   "execution_count": 16,
   "metadata": {
    "collapsed": false
   },
   "outputs": [],
   "source": [
    "AAR=(mean(results)/20000)**(252/total_trading_days)-1"
   ]
  },
  {
   "cell_type": "code",
   "execution_count": 18,
   "metadata": {
    "collapsed": false
   },
   "outputs": [
    {
     "name": "stdout",
     "output_type": "stream",
     "text": [
      "0.179222228057\n"
     ]
    }
   ],
   "source": [
    "print(AAR)"
   ]
  },
  {
   "cell_type": "code",
   "execution_count": null,
   "metadata": {
    "collapsed": true
   },
   "outputs": [],
   "source": []
  }
 ],
 "metadata": {
  "kernelspec": {
   "display_name": "Python 3",
   "language": "python",
   "name": "python3"
  },
  "language_info": {
   "codemirror_mode": {
    "name": "ipython",
    "version": 3
   },
   "file_extension": ".py",
   "mimetype": "text/x-python",
   "name": "python",
   "nbconvert_exporter": "python",
   "pygments_lexer": "ipython3",
   "version": "3.6.0"
  }
 },
 "nbformat": 4,
 "nbformat_minor": 2
}
